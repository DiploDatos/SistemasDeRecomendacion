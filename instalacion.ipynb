{
 "cells": [
  {
   "cell_type": "markdown",
   "metadata": {
    "slideshow": {
     "slide_type": "slide"
    }
   },
   "source": [
    "# Sistemas de Recomendación - Instalación y Configuración"
   ]
  },
  {
   "cell_type": "markdown",
   "metadata": {
    "slideshow": {
     "slide_type": "slide"
    }
   },
   "source": [
    "## Configuración del entorno"
   ]
  },
  {
   "cell_type": "markdown",
   "metadata": {
    "slideshow": {
     "slide_type": "subslide"
    }
   },
   "source": [
    "### Instalación de conda\n",
    "\n",
    "Para este curso utilizaremos `conda` como gestor de paquetes y entornos de trabajo en Python. Pueden instalar la versión que quieran de Anaconda o Miniconda. Las instrucciones, de acuerdo a su sistema operativo, pueden encontrarse en la [documentación oficial](https://docs.conda.io/projects/conda/en/latest/user-guide/install/index.html#regular-installation)."
   ]
  },
  {
   "cell_type": "markdown",
   "metadata": {
    "slideshow": {
     "slide_type": "subslide"
    }
   },
   "source": [
    "### Crear un entorno virtual con las librerías de Anaconda\n",
    "\n",
    "    $ conda create --name rec-sys python=3.7 anaconda\n",
    "\n",
    "Activar el entorno\n",
    "\n",
    "    $ conda activate rec-sys    "
   ]
  },
  {
   "cell_type": "markdown",
   "metadata": {
    "slideshow": {
     "slide_type": "subslide"
    }
   },
   "source": [
    "### Instalación de Surpr!se\n",
    "\n",
    "La librería que vamos a utilizar para entrenar nuestos sistemas de recomendación es [Surpr!se](http://surpriselib.com/) que tiene una implementación bastante completa de varios algoritmos de recomendación y una API muy similar a la de `scikit-learn`. Para instalarla, una vez activado el entorno, basta con el siguiente comando:\n",
    "\n",
    "    (rec-sys) $ conda install -c conda-forge scikit-surprise\n",
    "\n",
    "Para probar que se instaló correctamente, basta comprobarlo ejecutando la siguiente celda:"
   ]
  },
  {
   "cell_type": "code",
   "execution_count": 1,
   "metadata": {
    "slideshow": {
     "slide_type": "-"
    }
   },
   "outputs": [
    {
     "data": {
      "text/plain": [
       "'1.1.0'"
      ]
     },
     "execution_count": 1,
     "metadata": {},
     "output_type": "execute_result"
    }
   ],
   "source": [
    "import surprise\n",
    "\n",
    "surprise.__version__"
   ]
  },
  {
   "cell_type": "markdown",
   "metadata": {
    "slideshow": {
     "slide_type": "slide"
    }
   },
   "source": [
    "## Conjunto de datos"
   ]
  },
  {
   "cell_type": "markdown",
   "metadata": {
    "slideshow": {
     "slide_type": "subslide"
    }
   },
   "source": [
    "### MovieLens\n",
    "\n",
    "El conjunto de datos de [MovieLens](https://grouplens.org/datasets/movielens/) es uno de los más comunes para iniciarse en Sistemas de Recomendación, donde, en este caso, se buscan recomendar películas a los distintos usuarios en base a su review sobre películas vistas. Para descargarlo basta correr la celda siguiente (sólo disponible en Linux, en caso de utilizar Windows es mejor hacer la [descarga directa](https://grouplens.org/datasets/movielens/ml-latest-small.zip) y descomprimir el archivo):"
   ]
  },
  {
   "cell_type": "code",
   "execution_count": 2,
   "metadata": {
    "slideshow": {
     "slide_type": "-"
    }
   },
   "outputs": [
    {
     "name": "stdout",
     "output_type": "stream",
     "text": [
      "Archive:  ml-latest-small.zip\n",
      "   creating: data/ml-latest-small/\n",
      "  inflating: data/ml-latest-small/links.csv  \n",
      "  inflating: data/ml-latest-small/tags.csv  \n",
      "  inflating: data/ml-latest-small/ratings.csv  \n",
      "  inflating: data/ml-latest-small/README.txt  \n",
      "  inflating: data/ml-latest-small/movies.csv  \n"
     ]
    },
    {
     "name": "stderr",
     "output_type": "stream",
     "text": [
      "  % Total    % Received % Xferd  Average Speed   Time    Time     Time  Current\n",
      "                                 Dload  Upload   Total   Spent    Left  Speed\n",
      "\r",
      "  0     0    0     0    0     0      0      0 --:--:-- --:--:-- --:--:--     0\r",
      "  4  955k    4 46059    0     0  38033      0  0:00:25  0:00:01  0:00:24 38033\r",
      " 30  955k   30  295k    0     0   150k      0  0:00:06  0:00:01  0:00:05  150k\r",
      " 62  955k   62  595k    0     0   198k      0  0:00:04  0:00:03  0:00:01  198k\r",
      " 94  955k   94  906k    0     0   214k      0  0:00:04  0:00:04 --:--:--  214k\r",
      "100  955k  100  955k    0     0   225k      0  0:00:04  0:00:04 --:--:--  225k\n"
     ]
    }
   ],
   "source": [
    "%%bash\n",
    "\n",
    "mkdir -p data/\n",
    "curl -LO http://files.grouplens.org/datasets/movielens/ml-latest-small.zip\n",
    "unzip ml-latest-small.zip -d data/\n",
    "rm -f ml-latest-small.zip"
   ]
  },
  {
   "cell_type": "markdown",
   "metadata": {
    "slideshow": {
     "slide_type": "subslide"
    }
   },
   "source": [
    "### Steam\n",
    "\n",
    "Para el práctico 1 de la materia vamos a estar utilizando el conjunto de datos de [Steam Video Games](https://www.kaggle.com/tamber/steam-video-games/), que tiene información sobre juegos comprados y horas jugadas de usuarios de Steam sobre determinados juegos. Nuevamente, si no están utilizando una terminal de Linux, recomiendo hacer el proceso de manera manual mediante la [descarga directa](http://www2.informatik.uni-freiburg.de/~cziegler/BX/BX-CSV-Dump.zip)."
   ]
  },
  {
   "cell_type": "code",
   "execution_count": 1,
   "metadata": {
    "slideshow": {
     "slide_type": "-"
    }
   },
   "outputs": [
    {
     "name": "stdout",
     "output_type": "stream",
     "text": [
      "Archive:  steam-200k.csv.zip\n",
      "  inflating: data/steam/steam-200k.csv  \n"
     ]
    },
    {
     "name": "stderr",
     "output_type": "stream",
     "text": [
      "  % Total    % Received % Xferd  Average Speed   Time    Time     Time  Current\n",
      "                                 Dload  Upload   Total   Spent    Left  Speed\n",
      "\r",
      "  0     0    0     0    0     0      0      0 --:--:-- --:--:-- --:--:--     0\r",
      "100 1497k  100 1497k    0     0  4277k      0 --:--:-- --:--:-- --:--:-- 4277k\n"
     ]
    }
   ],
   "source": [
    "%%bash\n",
    "\n",
    "mkdir -p data/steam/\n",
    "curl -LO https://cs.famaf.unc.edu.ar/~ccardellino/diplomatura/steam-200k.csv.zip\n",
    "unzip steam-200k.csv.zip -d data/steam\n",
    "rm -f steam-200k.csv.zip"
   ]
  },
  {
   "cell_type": "markdown",
   "metadata": {
    "slideshow": {
     "slide_type": "slide"
    }
   },
   "source": [
    "## Algunos recursos extras\n",
    "\n",
    "- [Building and Testing Recommender Systems With Surprise, Step-By-Step](https://towardsdatascience.com/building-and-testing-recommender-systems-with-surprise-step-by-step-d4ba702ef80b)\n",
    "- [Building a Recommender System from Scratch](https://github.com/topspinj/pydata-workshop/blob/master/tutorial.ipynb)"
   ]
  }
 ],
 "metadata": {
  "anaconda-cloud": {},
  "celltoolbar": "Slideshow",
  "kernelspec": {
   "display_name": "Python 3",
   "language": "python",
   "name": "python3"
  },
  "language_info": {
   "codemirror_mode": {
    "name": "ipython",
    "version": 3
   },
   "file_extension": ".py",
   "mimetype": "text/x-python",
   "name": "python",
   "nbconvert_exporter": "python",
   "pygments_lexer": "ipython3",
   "version": "3.7.4"
  },
  "rise": {
   "scroll": true
  }
 },
 "nbformat": 4,
 "nbformat_minor": 2
}
