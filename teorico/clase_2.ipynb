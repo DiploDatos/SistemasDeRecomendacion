{
 "cells": [
  {
   "cell_type": "markdown",
   "metadata": {
    "slideshow": {
     "slide_type": "slide"
    }
   },
   "source": [
    "<h1 style=\"font-size:2.5em;text-align:center;\">Sistemas de Recomendación - Clase II</h1>"
   ]
  },
  {
   "cell_type": "markdown",
   "metadata": {
    "slideshow": {
     "slide_type": "slide"
    }
   },
   "source": [
    "# Contenido\n",
    "\n",
    "1. [Ratings](#Ratings)\n",
    "1. [Similitud entre usuarios y contenido](#Similitud-entre-usuarios-y-contenido)\n",
    "1. [Algoritmos de recomendación](#Algoritmos-de-recomendación)\n",
    "1. [Problemas con sistemas de recomendación](#Problemas-con-sistemas-de-recomendación)"
   ]
  },
  {
   "cell_type": "markdown",
   "metadata": {
    "slideshow": {
     "slide_type": "slide"
    }
   },
   "source": [
    "# Ratings"
   ]
  },
  {
   "cell_type": "markdown",
   "metadata": {
    "slideshow": {
     "slide_type": "subslide"
    }
   },
   "source": [
    "## ¿Qué es un rating?\n",
    "\n",
    "- Es una herramienta que establece el sentimiento de un **usuario** sobre el **contenido** que está consumiendo.\n",
    "- Se representa internamente como **un número en una escala** (e.g. de 0 a 5). \n",
    "    - Se busca que ese número pueda ser traducido a una representación gráfica para el usuario.\n",
    "- Pueden ser **explícitos** (dados directamente por el usuario) o **implícitos** (dados por las interacciones que realiza el usuario en una página).\n",
    "- Ejemplos: estrellas de Amazon, reputación de un vendedor en Mercado Libre, la cantidad de veces que uno reproduce una película en Netflix o una canción en Spotify."
   ]
  },
  {
   "cell_type": "markdown",
   "metadata": {
    "slideshow": {
     "slide_type": "subslide"
    }
   },
   "source": [
    "## Matriz de Usuario-Contenido\n",
    "\n",
    "- Es una matriz (tabla) con **una fila por cada usuario** y **una columna por cada item** de contenido (o visceversa).\n",
    "- El **contenido** de la matriz es el **rating** (explícito o implícito) que le asigna un usuario a cierto item de contenido.\n",
    "    - Desafío en el diseño de un sistema de recomendación: ¿Qué tipo de información utilizar para rellenar el contenido de la matriz?.\n",
    "- Es el punto de entrada para entrenar la mayoría de los algoritmos de recomendación.\n",
    "- El objetivo de los algoritmos de recomendación es **llenar huecos** en la matriz de usuario-contenido."
   ]
  },
  {
   "cell_type": "markdown",
   "metadata": {
    "slideshow": {
     "slide_type": "subslide"
    }
   },
   "source": [
    "## Matriz de Usuario-Contenido: Ejemplo\n",
    "\n",
    "<img alt=\"User Item Matrix\" src=\"./img/user-item-matrix.png\" style=\"width:80%;margin:auto;\"/>"
   ]
  },
  {
   "cell_type": "markdown",
   "metadata": {
    "slideshow": {
     "slide_type": "subslide"
    }
   },
   "source": [
    "## Matriz de Usuario-Contenido: Problemas de Dispersión\n",
    "\n",
    "- Las matrices de usuario-contenido tienden a ser **altamente dispersas**.\n",
    "- Las plataformas suelen tener **muchos usuarios e items**. \n",
    "    - Es raro encontrar a usuarios que interactúen con todos los items.\n",
    "- Deben poblarse con ratings (implícitos o explícitos), en caso contrario no brindan suficiente información a los algoritmos de recomendación."
   ]
  },
  {
   "cell_type": "markdown",
   "metadata": {
    "slideshow": {
     "slide_type": "subslide"
    }
   },
   "source": [
    "## Ratings explícitos vs. ratings implícitos.\n",
    "\n",
    "- Los datos para generar una matriz de usuario-contenido se obtienen de las **interacciones que el usuario hace con el sitio**.\n",
    "- Los **ratings explícitos** se consiguen a través de un **sistema específicamente diseñado**.\n",
    "    - El usuario nos provee su apreciación de un item.\n",
    "- Los **ratings implícitos** se consiguen a través de datos recolectados a partir del **comportamiento del usuario**.\n",
    "    - Se tiene que registrar lo que hace el usuario dentro del sitio. Desde compras hasta historial de revisión.\n",
    "- Sitios distintos tienen **distintas formas de capturar la información**. \n",
    "- No todas las aplicaciones se benefician de sistemas explícitos."
   ]
  },
  {
   "cell_type": "markdown",
   "metadata": {
    "slideshow": {
     "slide_type": "subslide"
    }
   },
   "source": [
    "## Ratings explícitos\n",
    "\n",
    "- Son la **forma más directa** de llenar la matriz de usuario-contenido.\n",
    "- Dependen de la **voluntad del usuario**.\n",
    "- ¿Qué tan **seguro está el usuario** de lo que le gusta?\n",
    "    - ¿Qué cosa en particular no le gusta? E.g. canción vs. género musical, artículo vs. tema de una noticia.\n",
    "- ¿Son confiables los sistemas de reputación?\n",
    "\n",
    "<img alt=\"User Item Matrix\" src=\"./img/yelp-hotel-review.jpg\" style=\"margin:auto;\"/>"
   ]
  },
  {
   "cell_type": "markdown",
   "metadata": {
    "slideshow": {
     "slide_type": "subslide"
    }
   },
   "source": [
    "## Ratings implícitos\n",
    "\n",
    "- Se basan en el **monitoreo** de lo que hace el usuario.\n",
    "    - Dar un bajo rating a una película, pero reveerla una y otra vez.\n",
    "- Se busca encontrar un **número que defina la conformidad** de un usuario con un item.\n",
    "    - Cantidad de reproducciones de una canción, historial de navegación, compras, etc.\n",
    "- **No todo** lo que hace un usuario **es sinónimo de conformidad**. \n",
    "    - Traducir comportamiento en ratings es una tarea subjetiva, depende mucho del contexto.\n",
    "- El **tiempo es relevante**.\n",
    "    - No es lo mismo recomendar un bar de cerveza a las 9 a.m. que a las 9 p.m.\n",
    "    - Comprar algo que recién sale al mercado es más valioso que comprar algo más viejo."
   ]
  },
  {
   "cell_type": "markdown",
   "metadata": {
    "slideshow": {
     "slide_type": "subslide"
    }
   },
   "source": [
    "## Cálculo de ratings implícitos\n",
    "\n",
    "- Registramos las **acciones del usuario**.\n",
    "- Distintos **eventos** dan distintos **valores**.\n",
    "    - Buscar item.\n",
    "    - Entrar en los detalles de un item (o items de categoría similar).\n",
    "    - Averiguar medios de pago/envío.\n",
    "    - Preguntar.\n",
    "    - Comprar.\n",
    "- Buscamos llegar al rating máximo (e.g. comprar). \n",
    "    - Puede ser un valor continúo (e.g. porcentaje de una canción/video que el usuario reproduce)"
   ]
  },
  {
   "cell_type": "markdown",
   "metadata": {
    "slideshow": {
     "slide_type": "subslide"
    }
   },
   "source": [
    "## Cálculo de ratings implícitos: fórmula\n",
    "\n",
    "$$\n",
    "    IR_{i,u} = w_1 \\times \\#event_1 + w_2 \\times \\#event_2 + \\dots + w_n \\times \\#event_n\n",
    "$$\n",
    "\n",
    "- $IR_{i,u}$: Rating implícito entre usuario *u* e item *i*.\n",
    "- $\\#event_i$: Número de veces que un evento ocurre.\n",
    "    - Pueden estar **acotados por un valor máximo**.\n",
    "    - Se pueden **pesar por el tiempo** desde que ocurrió el evento.\n",
    "- $w_1, \\dots, w_n$: Pesos que se les da a los distintos eventos (basados en análisis).\n",
    "    - Estos pueden **calcularse mediante análisis o como parámetros de un clasificador** binario que busca encontrar la probabilidad de comprar un item."
   ]
  },
  {
   "cell_type": "markdown",
   "metadata": {
    "slideshow": {
     "slide_type": "subslide"
    }
   },
   "source": [
    "## Items poco frecuentes\n",
    "\n",
    "- Muchas veces los **eventos raros** nos dicen más sobre el usuario que cualquier otro evento.\n",
    "    - No es lo mismo comprar un DVD del \"Señor de los Anillos\" que comprar una edición de coleccionista con un poster.\n",
    "- Los eventos raros hacen **subgrupos de usuarios** más específicos.\n",
    "- Podemos **reponderar el rating** de un item (implícito o explícito) mediante esta información.\n",
    "\n",
    "$$\n",
    "    R^{(final)}_{i,u} = R_{i,u} \\times \\log\\Big(\\frac{N}{1+n}\\Big)\n",
    "$$\n",
    "\n",
    "- $R_{i,u}$: Rating calculado originalmente (explícito o implícito)\n",
    "- $N$: Número total de usuarios.\n",
    "- $n$: Número de usuarios que compraron el item *i*.\n",
    "- $R^{(final)}_{i,u}$: Rating reponderado."
   ]
  },
  {
   "cell_type": "markdown",
   "metadata": {
    "slideshow": {
     "slide_type": "slide"
    }
   },
   "source": [
    "# Similitud entre usuarios y contenido"
   ]
  },
  {
   "cell_type": "markdown",
   "metadata": {
    "slideshow": {
     "slide_type": "subslide"
    }
   },
   "source": [
    "## Métricas de similitud\n",
    "\n",
    "- Buscamos ver que tan **cercanos están dos elementos**.\n",
    "- Se busca **recomendar contenido entre usuarios similares**.\n",
    "- Una **función (o métrica) de similitud** busca comparar dos elementos.\n",
    "    - $\\text{sim}(i_1, i_2) = 1$ implica igualdad.\n",
    "    - $\\text{sim}(i_1, i_2) = 0$ implica dos elementos completamente opuestos.\n",
    "- Las métricas de similitud **dependen del conjunto de datos**. Algunas funcionan mejor que otras."
   ]
  },
  {
   "cell_type": "markdown",
   "metadata": {
    "slideshow": {
     "slide_type": "subslide"
    }
   },
   "source": [
    "## Similitud de Jaccard\n",
    "\n",
    "- Se define **entre dos conjuntos**.\n",
    "- Suelen ser mejor aplicadas sobre datos binarios (e.g. un usuario compró o no un item).\n",
    "- Evalúa **cantidad de interacciones** en común vs. independientes.\n",
    "- La distancia entre dos elementos $i$ y $j$, se define formalmente como:\n",
    "\n",
    "$$\n",
    "    \\text{Jaccard}(i, j) = \\frac{|\\{u:~u~\\text{compró}~i \\land j\\}|}{|\\{u:~u~\\text{compró}~i \\lor j\\}|}\n",
    "$$\n",
    "\n",
    "- El término \"compró\" puede cambiarse por cualquier interacción que se busque modelar."
   ]
  },
  {
   "cell_type": "markdown",
   "metadata": {
    "slideshow": {
     "slide_type": "subslide"
    }
   },
   "source": [
    "## Distancia Manhattan\n",
    "\n",
    "- Se define entre **valores cuantitativos**.\n",
    "- Conocida también como norma $L_1$.\n",
    "- La distancia Manhattan se piensa como la **cantidad de cuadras que hay que hacer para llegar de un punto al otro** en Manhattan.\n",
    "- Se define formalmente entre dos elementos $i$ y $j$ como:\n",
    "\n",
    "$$\n",
    "    \\text{Manhattan}(i, j) = \\sum_{u=1}^{n}|r_{i,u} - r_{j,u}|\n",
    "$$"
   ]
  },
  {
   "cell_type": "markdown",
   "metadata": {
    "slideshow": {
     "slide_type": "subslide"
    }
   },
   "source": [
    "## Distancia Euclídea\n",
    "\n",
    "- Se define entre **valores cuantitativos**.\n",
    "- Conocida también como norma $L_2$.\n",
    "- Es la **distancia recta más corta entre dos puntos**. Proviene del teorema de Pitágoras.\n",
    "- Se define formalmente entre dos elementos $i$ y $j$ como:\n",
    "\n",
    "$$\n",
    "    \\text{Euclidean}(i, j) = \\sqrt{\\sum_{u=1}^{n}(r_{i,u} - r_{j,u})^2}\n",
    "$$"
   ]
  },
  {
   "cell_type": "markdown",
   "metadata": {
    "slideshow": {
     "slide_type": "subslide"
    }
   },
   "source": [
    "## Similitud Coseno\n",
    "\n",
    "- Se define entre **valores cuantitativos**.\n",
    "- Mide el **ángulo entre vectores** que representen nuestros datos.\n",
    "- Se define formalmente entre dos elementos $i$ y $j$ como:\n",
    "\n",
    "$$\n",
    "    \\text{Cosine}(i, j) = \\frac{\\sum_{u=1}^{n}r_{i,u}r_{j,u}}{\\sqrt{\\sum_{u=1}^{n}r_{i,u}^2}\\sqrt{\\sum_{u=1}^{n}r_{j,u}^2}}\n",
    "$$\n",
    "\n",
    "- En general **se normaliza utilizando promedios** (parecido a lo que se hace con el coeficiente de Pearson).\n",
    "    - La idea es eliminar el sesgo de los usuarios."
   ]
  },
  {
   "cell_type": "markdown",
   "metadata": {
    "slideshow": {
     "slide_type": "subslide"
    }
   },
   "source": [
    "## Coeficiente de correlación de Pearson\n",
    "\n",
    "- Mide que tan **correlacionadas están las puntuaciones** entre dos elementos (pueden ser usuarios o items).\n",
    "- Compara los **elementos contra el promedio** y evalúa que tan diferentes son.\n",
    "- Se define formalmente entre dos elementos $i$ y $j$ como:\n",
    "\n",
    "$$\n",
    "    \\text{Pearson}(i, j) = \\frac{\\sum_{u=1}^{n}(r_{i,u}-\\bar{r_i})(r_{j,u}-\\bar{r_j})}{\\sqrt{\\sum_{u=1}^{n}(r_{i,u}-\\bar{r_{i}})^2}\\sqrt{\\sum_{u=1}^{n}(r_{j,u}-\\bar{r_{j}})^2}}\n",
    "$$"
   ]
  },
  {
   "cell_type": "markdown",
   "metadata": {
    "slideshow": {
     "slide_type": "subslide"
    }
   },
   "source": [
    "## Clustering\n",
    "\n",
    "- Definidas las métricas de similitud (o distancia) podemos hacer uso de **algoritmos de clustering**.\n",
    "- La idea es **buscar usuarios o items cercanos y agruparlos**.\n",
    "- Técnicas clásicas de clustering sirven: K-Means, Jerárquico, Expectation-Maximization."
   ]
  },
  {
   "cell_type": "markdown",
   "metadata": {
    "slideshow": {
     "slide_type": "slide"
    }
   },
   "source": [
    "# Algoritmos de recomendación"
   ]
  },
  {
   "cell_type": "markdown",
   "metadata": {
    "slideshow": {
     "slide_type": "subslide"
    }
   },
   "source": [
    "## Filtrado colaborativo\n",
    "\n",
    "- Es uno de los modelos de recomendación más básicos pero **muy robusto**.\n",
    "- Se basa en la idea **asociar usuarios similares de acuerdo a sus gustos**, expresados en los ratings.\n",
    "- Puede aplicarse sobre **usuarios** (user-based collaborative filtering).\n",
    "    - Dados dos usuarios similares $u$ y $v$, recomendamos el item $i$ al usuario $u$ que adquirió el usuario $v$ y todavía no fue consumido por $u$.\n",
    "- Puede aplicarse sobre **items** (item-based collaborative filtering).\n",
    "    - Dados dos items similares $i$ y $j$ y un usuario $u$ que adquirió $i$, le recomendamos $j$."
   ]
  },
  {
   "cell_type": "markdown",
   "metadata": {
    "slideshow": {
     "slide_type": "subslide"
    }
   },
   "source": [
    "### Filtrado basado en usuarios vs items\n",
    "\n",
    "- Los items se consideran **más estables**.\n",
    "- Un sistema puede tener **pocas interacciones para cada usuario**.\n",
    "- **Depende de la cantidad** de usuarios o items en el sistema y **su variabilidad**.\n",
    "- Los items proveen menos posibilidad de variación. Se **estancan rápido**.\n",
    "- Los **usuarios evolucionan**, las **recomendaciones pueden ser más dinámicas**."
   ]
  },
  {
   "cell_type": "markdown",
   "metadata": {
    "slideshow": {
     "slide_type": "subslide"
    }
   },
   "source": [
    "### Pipeline de filtrado colaborativo\n",
    "\n",
    "- Partimos de la **matriz de usuario-contenido**.\n",
    "- Calculamos la **similitud entre los elementos**.\n",
    "- Ordenamos los **elementos que más se parecen** al elemento actual.\n",
    "- Elegimos un **vecindario sobre el cuál calcular** la predicción.\n",
    "- Utilizamos los **ratings del usuario y su vecindario** para calcular el rating actual."
   ]
  },
  {
   "cell_type": "markdown",
   "metadata": {
    "slideshow": {
     "slide_type": "subslide"
    }
   },
   "source": [
    "### Vecindario para calcular predicción\n",
    "\n",
    "- A la hora de calcular un rating es necesario elegir aquellos **elementos que sean los más similares**.\n",
    "- La opción de **clustering** nos da un vecindario en el cluster de un elemento.\n",
    "- Los **K** vecinos más cercanos da un número fijo de vecinos.\n",
    "    - Siempre nos brinda valores con los que calcular.\n",
    "- Un **umbral** en los ratings más cercanos dá un número variable de vecinos.\n",
    "    - Puede dejar el algoritmo sin datos para calcular la predicción.\n",
    "- El **análisis de datos y la tolerancia** sobre las predicciones nos dan idea de qué método utilizar."
   ]
  },
  {
   "cell_type": "markdown",
   "metadata": {
    "slideshow": {
     "slide_type": "subslide"
    }
   },
   "source": [
    "### Cálculo de la predicción\n",
    "\n",
    "- A partir de los datos de ratings de un usuarios, las similitudes, y el vecindario, **completamos las matriz de usuario-contenido** con el cálculo de nuevos ratings:\n",
    "\n",
    "$$\n",
    "    r^{(p)}_{i,u} = \\bar{r_u} + \\frac{\\sum_{j \\in N}\\text{sim}(i,j)(r_{u,j}-\\bar{r_j})}{\\sum_{j \\in N}\\text{sim}(i,j)}\n",
    "$$\n",
    "\n",
    "- $r^{(p)}_{i,u}$: Es el valor predicho para el rating del item $i$ por el usuario $u$.\n",
    "- $\\bar{r_u}$: Es la media de ratings dada por el usuario $u$ a todos los items que puntuó.\n",
    "- $j \\in N$: Son todos los items $j$ del vecindario $N$.\n",
    "- $\\bar{r_j}$: Es el rating medio del item $j$ (es opcional).\n",
    "- $\\text{sim}(i,j)$: Es la métrica de similitud entre los items $i$ y $j$."
   ]
  },
  {
   "cell_type": "markdown",
   "metadata": {
    "slideshow": {
     "slide_type": "subslide"
    }
   },
   "source": [
    "### Surpr!se"
   ]
  },
  {
   "cell_type": "code",
   "execution_count": null,
   "metadata": {
    "slideshow": {
     "slide_type": "-"
    }
   },
   "outputs": [],
   "source": [
    "import pandas as pd\n",
    "\n",
    "from surprise import Dataset, Reader, KNNWithMeans\n",
    "from surprise.accuracy import rmse\n",
    "from surprise.model_selection import cross_validate, train_test_split"
   ]
  },
  {
   "cell_type": "code",
   "execution_count": null,
   "metadata": {
    "slideshow": {
     "slide_type": "-"
    }
   },
   "outputs": [],
   "source": [
    "ratings = pd.read_csv(\"../data/ml-latest-small/ratings.csv\")\n",
    "\n",
    "reader = Reader(rating_scale=(ratings.rating.min(), ratings.rating.max()))\n",
    "\n",
    "ratings = Dataset.load_from_df(ratings[[\"userId\", \"movieId\", \"rating\"]], reader)"
   ]
  },
  {
   "cell_type": "code",
   "execution_count": null,
   "metadata": {
    "slideshow": {
     "slide_type": "-"
    }
   },
   "outputs": [],
   "source": [
    "ratings_train, ratings_test = train_test_split(ratings, test_size=0.2)\n",
    "model = KNNWithMeans(k=5).fit(ratings_train)\n",
    "predictions = model.test(ratings_test)\n",
    "print(\"RMSE on test: {:.4f}\".format(rmse(predictions, verbose=False)))"
   ]
  },
  {
   "cell_type": "markdown",
   "metadata": {
    "slideshow": {
     "slide_type": "subslide"
    }
   },
   "source": [
    "### Surpr!se: Cross Validation"
   ]
  },
  {
   "cell_type": "code",
   "execution_count": null,
   "metadata": {
    "slideshow": {
     "slide_type": "-"
    }
   },
   "outputs": [],
   "source": [
    "model = KNNWithMeans(k=5, verbose=False)\n",
    "cross_validated_metrics = cross_validate(model, ratings, measures=['RMSE', 'MAE'], cv=5, verbose=True)"
   ]
  },
  {
   "cell_type": "markdown",
   "metadata": {
    "slideshow": {
     "slide_type": "subslide"
    }
   },
   "source": [
    "## Filtrado basado en contenido\n",
    "\n",
    "- En lugar de utilizar los ratings, utilizamos la **información del contenido**.\n",
    "    - Metadatos como tema, descripción, género, etc.\n",
    "- Dependen mucho del **tipo de los datos**.\n",
    "    - Las películas tienen directores y actores. Podemos recomendar películas similares en base a actores que tengan en común.\n",
    "- Requiere de tres aspectos:\n",
    "    1. Analizador de contenido: Crea un modelo basado en la información de los items.\n",
    "    2. Perfil del usuario: Genera un perfil del usuario en base al contenido consumido. E.g. una lista de películas vistas.\n",
    "    3. Recuperación de contenido: Recomienda contenido basado en la similitud del perfil del usuario con el perfil de los items. E.g. iterando y comparando uno a uno los elementos de la lista."
   ]
  },
  {
   "cell_type": "markdown",
   "metadata": {
    "slideshow": {
     "slide_type": "subslide"
    }
   },
   "source": [
    "### Analizador de contenido\n",
    "\n",
    "- Se busca **describir los datos mediante sus metadatos**.\n",
    "- Puede dividirse entre **hechos** y **etiquetas** (tags).\n",
    "- Los **hechos** son indiscutibles, tienen que ver con los datos en sí. E.g. director o actor de una película.\n",
    "- Las **etiquetas** generalmente se piensan en cómo los usuarios **categorizan los items**. E.g. una lista de Spotify para **levantar el ánimo**.\n",
    "- **No hay división clara**. Pero los hechos tienden a ser menos subjetivos. Las etiquetas dependen más del usuario."
   ]
  },
  {
   "cell_type": "markdown",
   "metadata": {
    "slideshow": {
     "slide_type": "subslide"
    }
   },
   "source": [
    "### Vector del contenido\n",
    "\n",
    "- El analizador de contenido busca **representar items mediante vectores**.\n",
    "    - En filtrado colaborativo el **vector está dado por ratings**.\n",
    "    - Acá el vector es **producido mediante características**.\n",
    "- Se lo puede pensar como una **ingeniería de atributos** de aprendizaje automático.\n",
    "    - Los atributos pueden ser binarios, categóricos, cuantitativos, etc."
   ]
  },
  {
   "cell_type": "markdown",
   "metadata": {
    "slideshow": {
     "slide_type": "subslide"
    }
   },
   "source": [
    "### Vector del contenido: uso del texto\n",
    "\n",
    "- Muchas veces los **metadatos están en el texto** (e.g. título o descripción).\n",
    "- Las **técnicas clásicas de NLP** sirven para lidiar con esto.\n",
    "- Buscamos representar una descripción mediante una **bolsa de palabras**.\n",
    "    - Requerimos de un paso previo de **tokenización**.\n",
    "    - Generamos un **vector donde cada dimensión representa una palabra y el valor representa el conteo**.\n",
    "    - Es útil eliminar las **palabras vacías**."
   ]
  },
  {
   "cell_type": "markdown",
   "metadata": {
    "slideshow": {
     "slide_type": "subslide"
    }
   },
   "source": [
    "### Vector del contenido: TF-IDF\n",
    "\n",
    "- Podemos utilizar **TF-IDF** para reponderar de acuerdo a la **importancia de los términos**.\n",
    "- La idea es **pesar una palabra en un metadato** de acuerdo a que tanto ocurre en todos los metadatos.\n",
    "\n",
    "$$\n",
    "    \\text{tf-idf}(w, d) = f_{w,d} \\times \\text{idf}(w)\n",
    "$$\n",
    "\n",
    "$$\n",
    "    \\text{idf}(w) = \\frac{|D|}{|\\{d \\in D : w \\in d\\}|}\n",
    "$$\n",
    "\n",
    "- $w$: Es una palabra.\n",
    "- $d$: Es un documento.\n",
    "- $f_{w,d}$: Es la cantidad de veces que $w$ ocurre en $d$.\n",
    "- $D$: Es el conjunto de todos los documentos."
   ]
  },
  {
   "cell_type": "markdown",
   "metadata": {
    "slideshow": {
     "slide_type": "subslide"
    }
   },
   "source": [
    "### Otras técnicas: LDA, LSA, word2vec\n",
    "\n",
    "- Otras formas de representar datos es mediante otras técnicas de NLP.\n",
    "- LDA permite **representar los documentos mediante temas**. Los temas son representados mediante **palabras**.\n",
    "- LSA (o LSI) obtiene **variables latentes entre documentos**. Busca encontrar relaciones que no están a simple vista.\n",
    "- word2vec es un **algoritmo para representar palabras** basado en información de co-ocurrencia."
   ]
  },
  {
   "cell_type": "markdown",
   "metadata": {
    "slideshow": {
     "slide_type": "subslide"
    }
   },
   "source": [
    "### Matriz de contenido: Ejemplo\n",
    "\n",
    "<img alt=\"Content Matrix\" src=\"./img/movies-matrix.png\" style=\"width:80%;margin:auto;\"/>"
   ]
  },
  {
   "cell_type": "markdown",
   "metadata": {
    "slideshow": {
     "slide_type": "subslide"
    }
   },
   "source": [
    "### Crear el perfil de usuario\n",
    "\n",
    "- Ya habiendo creado el vector de contenido necesitamos crear **el perfil de usuario**.\n",
    "- Se puede hacer **sumando los vectores de contenido con los que el usuario interactuó**.\n",
    "    - Es sensato **normalizar este vectors**.\n",
    "- El vector final **sirve para encontrar contenido similar para el usuario**."
   ]
  },
  {
   "cell_type": "markdown",
   "metadata": {
    "slideshow": {
     "slide_type": "subslide"
    }
   },
   "source": [
    "### Perfil de usuario: Ejemplo\n",
    "\n",
    "- Suponiendo que el usuario haya puesto 5 estrellas para \"Raiders of the Lost Ark\" y 3 para \"La La Land\".\n",
    "\n",
    "<img alt=\"User Profile\" src=\"./img/user-content.png\" style=\"width:80%;margin:auto;\"/>"
   ]
  },
  {
   "cell_type": "markdown",
   "metadata": {
    "slideshow": {
     "slide_type": "subslide"
    }
   },
   "source": [
    "### Ejemplo: Géneros de películas "
   ]
  },
  {
   "cell_type": "code",
   "execution_count": null,
   "metadata": {
    "slideshow": {
     "slide_type": "-"
    }
   },
   "outputs": [],
   "source": [
    "movies = pd.read_csv(\"../data/ml-latest-small/movies.csv\")\n",
    "movies['genres'] = movies['genres'].apply(lambda x: x.split(\"|\"))\n",
    "movies.head()"
   ]
  },
  {
   "cell_type": "markdown",
   "metadata": {
    "slideshow": {
     "slide_type": "subslide"
    }
   },
   "source": [
    "### Ejemplo: Géneros de películas - Vector de contenido"
   ]
  },
  {
   "cell_type": "code",
   "execution_count": null,
   "metadata": {
    "slideshow": {
     "slide_type": "-"
    }
   },
   "outputs": [],
   "source": [
    "genres = set(g for G in movies['genres'] for g in G)\n",
    "\n",
    "for g in genres:\n",
    "    movies[g] = movies.genres.transform(lambda x: int(g in x))\n",
    "    \n",
    "movie_genres = movies.drop(columns=['movieId', 'title','genres'])\n",
    "movie_genres.head()"
   ]
  },
  {
   "cell_type": "markdown",
   "metadata": {
    "slideshow": {
     "slide_type": "subslide"
    }
   },
   "source": [
    "### Ejemplo: Géneros de película - Similitud entre géneros"
   ]
  },
  {
   "cell_type": "code",
   "execution_count": null,
   "metadata": {
    "slideshow": {
     "slide_type": "-"
    }
   },
   "outputs": [],
   "source": [
    "from sklearn.metrics.pairwise import cosine_similarity\n",
    "\n",
    "cosine_sim = cosine_similarity(movie_genres, movie_genres)"
   ]
  },
  {
   "cell_type": "markdown",
   "metadata": {
    "slideshow": {
     "slide_type": "subslide"
    }
   },
   "source": [
    "### Ejemplo: Géneros de película - Sistema de recomendación"
   ]
  },
  {
   "cell_type": "code",
   "execution_count": null,
   "metadata": {
    "slideshow": {
     "slide_type": "-"
    }
   },
   "outputs": [],
   "source": [
    "def movie_finder(title):\n",
    "    return movies[movies['title'].str.contains(title)]['title'].tolist()\n",
    "\n",
    "movie_idx = dict(zip(movies['title'], list(movies.index)))\n",
    "title = movie_finder('Toy Story')[0]\n",
    "n_recommendations = 5\n",
    "\n",
    "idx = movie_idx[title]\n",
    "sim_scores = list(enumerate(cosine_sim[idx]))\n",
    "sim_scores = sorted(sim_scores, key=lambda x: x[1], reverse=True)\n",
    "sim_scores = sim_scores[1:(n_recommendations+1)]\n",
    "similar_movies = [i[0] for i in sim_scores]\n",
    "\n",
    "print(\"Recomendaciones para {}:\".format(title))\n",
    "for movie in movies['title'].iloc[similar_movies]:\n",
    "    print(\"\\t{}\".format(movie))"
   ]
  },
  {
   "cell_type": "markdown",
   "metadata": {
    "slideshow": {
     "slide_type": "subslide"
    }
   },
   "source": [
    "## Factorización de matrices\n",
    "\n",
    "- Se busca **reducir dimensiones** de manera que se elimine el ruido.\n",
    "- Las dimensiones más importantes, que quedan cuando se reducen las demás, se llaman **factores latentes**.\n",
    "    - La idea es representar usuario y contenido a través de factores latentes.\n",
    "    - Nuevos usuarios (o items), con cierto contenido inicial, son fácilmente agregados.\n",
    "- El **algoritmo de SVD** del álgebra lineal nos brinda esa oportunidad."
   ]
  },
  {
   "cell_type": "markdown",
   "metadata": {
    "slideshow": {
     "slide_type": "subslide"
    }
   },
   "source": [
    "### Algoritmo de SVD\n",
    "\n",
    "- **M** es la matriz de ratings.\n",
    "- **U** es la matriz de características de usuarios.\n",
    "- **$\\sigma$** es la matriz de valores singulares.\n",
    "- **V$^T$** es la matriz de características de items.\n",
    "\n",
    "<img alt=\"SVD\" src=\"./img/svd.png\" style=\"width:80%;margin:auto;\"/>"
   ]
  },
  {
   "cell_type": "markdown",
   "metadata": {
    "slideshow": {
     "slide_type": "subslide"
    }
   },
   "source": [
    "### Algoritmo de SVD\n",
    "\n",
    "- Elegimos **r** valores singulares.\n",
    "\n",
    "<img alt=\"Truncated SVD\" src=\"./img/truncated-svd.png\" style=\"width:80%;margin:auto;\"/>"
   ]
  },
  {
   "cell_type": "markdown",
   "metadata": {
    "slideshow": {
     "slide_type": "subslide"
    }
   },
   "source": [
    "### Algoritmo de SVD\n",
    "\n",
    "- Podemos calcular valores faltantes en base a los vectores de representación.\n",
    "\n",
    "<img alt=\"SVD Calculation\" src=\"./img/svd-calculation.png\" style=\"width:80%;margin:auto;\"/>"
   ]
  },
  {
   "cell_type": "markdown",
   "metadata": {
    "slideshow": {
     "slide_type": "subslide"
    }
   },
   "source": [
    "### Ejemplo: Películas\n",
    "\n",
    "<img alt=\"Movie Ratings\" src=\"./img/movie-matrix-ratings.png\" style=\"width:75%;margin:auto;\"/>"
   ]
  },
  {
   "cell_type": "markdown",
   "metadata": {
    "slideshow": {
     "slide_type": "subslide"
    }
   },
   "source": [
    "### Ejemplo: Películas\n",
    "\n",
    "<img alt=\"Movie SVD\" src=\"./img/movie-matrix-svd.png\" style=\"width:80%;margin:auto;\"/>"
   ]
  },
  {
   "cell_type": "markdown",
   "metadata": {
    "slideshow": {
     "slide_type": "subslide"
    }
   },
   "source": [
    "### Ejemplo: Películas\n",
    "\n",
    "<img alt=\"Movie SVD\" src=\"./img/movie-matrix-factorization.png\" style=\"width:40%;margin:auto;\"/>"
   ]
  },
  {
   "cell_type": "markdown",
   "metadata": {
    "slideshow": {
     "slide_type": "subslide"
    }
   },
   "source": [
    "### Algoritmo de Simon Funk\n",
    "\n",
    "- El algoritmo de SVD **tiene algunos problemas**:\n",
    "    - Calcular y actualizarlo es lento.\n",
    "    - Necesariamente requiere valores para reemplazar los lugares vacíos.\n",
    "- Simon Funk desarrolló [un algoritmo](https://sifter.org/~simon/journal/20061211.html) que a grandes razgos **calcula SVD iterativamente**.\n",
    "- La idea es definir una **función hipótesis y una función de coste**.\n",
    "- Una vez definidas, **se minimiza** la función de coste respecto de los parámetros de la función hipótesis.\n",
    "- Se puede **entrenar** como un algoritmo supervisado mediante **descenso por la gradiente**."
   ]
  },
  {
   "cell_type": "markdown",
   "metadata": {
    "slideshow": {
     "slide_type": "subslide"
    }
   },
   "source": [
    "### Algoritmo de Simon Funk: Hipótesis\n",
    "\n",
    "- Se define la función de hipótesis para un rating de un usuario a un item como:\n",
    "\n",
    "$$\n",
    "    \\hat{r}_{i,u} = \\mu + b_u + b_i + q_i^Tp_u\n",
    "$$\n",
    "\n",
    "- $\\hat{r}_{i,u}$: Es el rating a calcular.\n",
    "- $\\mu$: Es el promedio de todos los ratings.\n",
    "- $b_u$: Es el sesgo (*bias*) del usuario.\n",
    "- $b_i$: Es el sesgo (*bias*) del item.\n",
    "- $p_u$: Es el vector de factores latentes que representa el usuario $u$.\n",
    "- $q_i$: Es el vector de factores latentes que representa el item $i$."
   ]
  },
  {
   "cell_type": "markdown",
   "metadata": {
    "slideshow": {
     "slide_type": "subslide"
    }
   },
   "source": [
    "### Algoritmo de Simon Funk: Función de costo\n",
    "\n",
    "- Se define la función de costo como:\n",
    "\n",
    "$$\n",
    "    \\sum_{r_{i,u} \\in R_{train}} (r_{i,u} - \\hat{r}_{i,u})^2 + \\lambda\\big(b_i^2 + b_u^2 + ||q_i||^2 + ||p_u||^2\\big)\n",
    "$$\n",
    "\n",
    "- $r_{i,u}$: Son los ratings del conjunto de entrenamiento.\n",
    "- $\\hat{r}_{i,u}$: Es el rating predicho.\n",
    "- $\\mu$: Es el promedio de todos los ratings.\n",
    "- $b_u$: Es el sesgo (*bias*) del usuario.\n",
    "- $b_i$: Es el sesgo (*bias*) del item.\n",
    "- $p_u$: Es el vector de factores latentes que representa el usuario $u$.\n",
    "- $q_i$: Es el vector de factores latentes que representa el item $i$."
   ]
  },
  {
   "cell_type": "markdown",
   "metadata": {
    "slideshow": {
     "slide_type": "subslide"
    }
   },
   "source": [
    "### Surpr!se"
   ]
  },
  {
   "cell_type": "code",
   "execution_count": null,
   "metadata": {
    "slideshow": {
     "slide_type": "-"
    }
   },
   "outputs": [],
   "source": [
    "from surprise import SVD\n",
    "\n",
    "model = SVD(n_factors=100, n_epochs=20, random_state=42).fit(ratings_train)\n",
    "predictions = model.test(ratings_test)\n",
    "print(\"RMSE on test: {:.4f}\".format(rmse(predictions, verbose=False)))"
   ]
  },
  {
   "cell_type": "markdown",
   "metadata": {
    "slideshow": {
     "slide_type": "subslide"
    }
   },
   "source": [
    "### Otros algoritmos de factorización\n",
    "\n",
    "- SVD++ que es una extensión de SVD, que tiene en cuenta ratings implícitos.\n",
    "- Non negative matrix factorization (NMF), es muy similar a SVD. Los **factores latentes no son negativos**.\n",
    "- Ambos algoritmos están implementados en Scikit Surprise."
   ]
  },
  {
   "cell_type": "markdown",
   "metadata": {
    "slideshow": {
     "slide_type": "slide"
    }
   },
   "source": [
    "# Problemas con sistemas de recomendación"
   ]
  },
  {
   "cell_type": "markdown",
   "metadata": {
    "slideshow": {
     "slide_type": "subslide"
    }
   },
   "source": [
    "## Problema de \"Cold Start\"\n",
    "\n",
    "- Es el **principal problema** con el que lidiar en sistemas de recomendación.\n",
    "- Pasa cuando hay un **nuevo usuario** (o contenido), del que no conocemos nada.\n",
    "- También aplica a **usuarios únicos** (i.e. no parecidos a ningún otro usuario).\n",
    "    - En este caso se lo llama **oveja gris**.\n",
    "- Hay varias maneras de trabajarlo."
   ]
  },
  {
   "cell_type": "markdown",
   "metadata": {
    "slideshow": {
     "slide_type": "subslide"
    }
   },
   "source": [
    "### Problema de \"Cold Start\": Algunas soluciones\n",
    "\n",
    "- Muchas veces la solución más sencilla es **preguntarle al usuario**.\n",
    "    - Algunos sitios piden algún tipo de rating al subscribirse (e.g. los géneros preferidos de película).\n",
    "    - Depende de la **voluntad del usuario**.\n",
    "    - Opción es **conectar el usuario mediante alguna red social**.\n",
    "- Una opción sencilla es **recomendar lo más popular** y ver el comportamiento.\n",
    "    - E.g. Amazon recomienda \"items que se están buscando ahora\". YouTube muestra \"trendings\".\n",
    "- Para **contenido** se puede agrupar y mostrar con cierta relevancia. \n",
    "    - E.g. la categoría de Netflix para \"New Arrivals\".\n",
    "- Los items suelen ser representables mediante **vectores de contenido** y recomendar mediante **filtrado basado en contenido**.\n",
    "- Una solución es aplicar **reglas de asociación** sobre las interacciones del usuario (e.g. ver los items que fue revisando)"
   ]
  },
  {
   "cell_type": "markdown",
   "metadata": {
    "slideshow": {
     "slide_type": "subslide"
    }
   },
   "source": [
    "### Problema de \"Cold Start\": Sesionización\n",
    "\n",
    "- La idea es llevar **registro de los usuario**.\n",
    "    - E.g. usando cookies o sesiones anónimas.\n",
    "- Se busca **hacer seguimiento de todo lo que hace el usuario**.\n",
    "- Cada sesión se puede **agrupar en un vector**.\n",
    "- Se lleva **registro de los vectores y se pueden comparar**.\n",
    "- En general, es mejor **convencer al usuario de registrarse**."
   ]
  },
  {
   "cell_type": "markdown",
   "metadata": {
    "slideshow": {
     "slide_type": "subslide"
    }
   },
   "source": [
    "## Problema de Sesgo\n",
    "\n",
    "- Muchas veces los algoritmos crean **sesgo**.\n",
    "- Aquellas cosas más recomendadas son las **únicas que se recomiendan**.\n",
    "- Una opción es **pesar por tiempo**.\n",
    "    - No siempre es útil, depende del contenido.\n",
    "- Agregar **aleatoriedad**.\n",
    "    - E.g. recomendar algo más que aquel contenido con mayor rating.\n",
    "- Utilizar **recomendaciones no personalizadas**.\n",
    "    - Reglas de asociación. E.g. ¿Qué otros productos compraron con este?\n",
    "    - Ordernar por lo más reciente.\n",
    "- Es un trabajo que tiene que ver más con el **diseño general del sistema** que con el algoritmo."
   ]
  }
 ],
 "metadata": {
  "celltoolbar": "Slideshow",
  "kernelspec": {
   "display_name": "Python 3",
   "language": "python",
   "name": "python3"
  },
  "language_info": {
   "codemirror_mode": {
    "name": "ipython",
    "version": 3
   },
   "file_extension": ".py",
   "mimetype": "text/x-python",
   "name": "python",
   "nbconvert_exporter": "python",
   "pygments_lexer": "ipython3",
   "version": "3.7.7"
  },
  "rise": {
   "scroll": true
  }
 },
 "nbformat": 4,
 "nbformat_minor": 2
}
