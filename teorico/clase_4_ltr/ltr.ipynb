{
 "cells": [
  {
   "cell_type": "markdown",
   "metadata": {},
   "source": [
    "## Probemos un poquito Learning to Rank con la librería LightGBM\n",
    "\n",
    "Seguimos el ejemplo del código en https://mlexplained.com/2019/05/27/learning-to-rank-explained-with-code/\n",
    "\n",
    "Para eso hay que descargar los datos con el archivo trans_data.py, ejecutando retrieve_30k.sh"
   ]
  },
  {
   "cell_type": "markdown",
   "metadata": {},
   "source": [
    "#### Para Linux\n",
    "\n",
    "Si el sistema que corren es Linux, se puede ejecutar la celda siguiente."
   ]
  },
  {
   "cell_type": "code",
   "execution_count": 25,
   "metadata": {},
   "outputs": [
    {
     "name": "stdout",
     "output_type": "stream",
     "text": [
      "--2020-11-21 13:17:35--  https://s3-us-west-2.amazonaws.com/xgboost-examples/MQ2008.rar\n",
      "Resolving s3-us-west-2.amazonaws.com (s3-us-west-2.amazonaws.com)... 52.218.234.112\n",
      "Connecting to s3-us-west-2.amazonaws.com (s3-us-west-2.amazonaws.com)|52.218.234.112|:443... connected.\n",
      "HTTP request sent, awaiting response... 200 OK\n",
      "Length: 15448795 (15M) [application/x-rar-compressed]\n",
      "Saving to: ‘MQ2008.rar.2’\n",
      "\n",
      "MQ2008.rar.2        100%[===================>]  14,73M  3,79MB/s    in 4,7s    \n",
      "\n",
      "2020-11-21 13:17:41 (3,13 MB/s) - ‘MQ2008.rar.2’ saved [15448795/15448795]\n",
      "\n",
      "\n",
      "UNRAR 5.50 freeware      Copyright (c) 1993-2017 Alexander Roshal\n",
      "\n",
      "\n",
      "Extracting from MQ2008.rar\n",
      "\n",
      "\n",
      "Would you like to replace the existing file MQ2008/Fold1/test.txt\n",
      "1768645 bytes, modified on 2009-03-17 17:22\n",
      "with a new one\n",
      "1768645 bytes, modified on 2009-03-17 17:22\n",
      "\n",
      "[Y]es, [N]o, [A]ll, n[E]ver, [R]ename, [Q]uit ^C\n",
      "\n",
      "User break\n",
      "\n",
      "[Y]es, [N]o, [A]ll, n[E]ver, [R]ename, [Q]uit "
     ]
    }
   ],
   "source": [
    "! bash retrieve_30k.sh"
   ]
  },
  {
   "cell_type": "markdown",
   "metadata": {},
   "source": [
    "#### Para Windows\n",
    "\n",
    "En el caso de Windows, deben tener instalado [7zip](https://www.7-zip.org/) primero. Luego deberán ejecutar las siguientes celdas."
   ]
  },
  {
   "cell_type": "code",
   "execution_count": null,
   "metadata": {},
   "outputs": [],
   "source": [
    "!pip install patool"
   ]
  },
  {
   "cell_type": "code",
   "execution_count": null,
   "metadata": {},
   "outputs": [],
   "source": [
    "import os\n",
    "import patoolib\n",
    "import requests\n",
    "\n",
    "rarfile = requests.get(\"https://s3-us-west-2.amazonaws.com/xgboost-examples/MQ2008.rar\")\n",
    "with open(\"./MQ2008.rar\", \"wb\") as fh:\n",
    "    fh.write(rarfile.content)\n",
    "\n",
    "patoolib.extract_archive(\"./MQ2008.rar\", outdir=\"./\")\n",
    "os.system(\"move /-y MQ2008\\Fold1\\*.txt .\")"
   ]
  },
  {
   "cell_type": "code",
   "execution_count": null,
   "metadata": {},
   "outputs": [],
   "source": [
    "!python trans_data.py train.txt mq2008.train mq2008.train.group"
   ]
  },
  {
   "cell_type": "code",
   "execution_count": null,
   "metadata": {},
   "outputs": [],
   "source": [
    "!python trans_data.py test.txt mq2008.test mq2008.test.group"
   ]
  },
  {
   "cell_type": "code",
   "execution_count": null,
   "metadata": {},
   "outputs": [],
   "source": [
    "!python trans_data.py vali.txt mq2008.vali mq2008.vali.group"
   ]
  },
  {
   "cell_type": "markdown",
   "metadata": {},
   "source": [
    "## Learning to Rank\n",
    "\n",
    "Introducción al Dataset: https://arxiv.org/pdf/1306.2597.pdf"
   ]
  },
  {
   "cell_type": "code",
   "execution_count": 27,
   "metadata": {},
   "outputs": [],
   "source": [
    "# Importemos las librerías más importantes\n",
    "import lightgbm as lgb\n",
    "import numpy as np\n",
    "import pandas as pd\n",
    "from sklearn.datasets import load_svmlight_file\n",
    "from scipy.stats import spearmanr\n",
    "\n",
    "# Carguemos los archivos que pudimos bajar con el script trans_data.py\n",
    "x_train, y_train = load_svmlight_file(\"mq2008.train\")\n",
    "x_valid, y_valid = load_svmlight_file(\"mq2008.vali\")\n",
    "x_test, y_test = load_svmlight_file(\"mq2008.test\")"
   ]
  },
  {
   "cell_type": "code",
   "execution_count": 28,
   "metadata": {},
   "outputs": [],
   "source": [
    "data = pd.read_csv(\"train.txt\", header=None, sep=\" \")\n",
    "separate_colon = lambda x: x.split(\":\")[-1]\n",
    "for column in data.columns[1:48]:\n",
    "    data[column] = data[column].apply(separate_colon)"
   ]
  },
  {
   "cell_type": "code",
   "execution_count": 29,
   "metadata": {},
   "outputs": [
    {
     "data": {
      "text/html": [
       "<div>\n",
       "<style scoped>\n",
       "    .dataframe tbody tr th:only-of-type {\n",
       "        vertical-align: middle;\n",
       "    }\n",
       "\n",
       "    .dataframe tbody tr th {\n",
       "        vertical-align: top;\n",
       "    }\n",
       "\n",
       "    .dataframe thead th {\n",
       "        text-align: right;\n",
       "    }\n",
       "</style>\n",
       "<table border=\"1\" class=\"dataframe\">\n",
       "  <thead>\n",
       "    <tr style=\"text-align: right;\">\n",
       "      <th></th>\n",
       "      <th>0</th>\n",
       "      <th>1</th>\n",
       "      <th>2</th>\n",
       "      <th>3</th>\n",
       "      <th>4</th>\n",
       "      <th>5</th>\n",
       "      <th>6</th>\n",
       "      <th>7</th>\n",
       "      <th>8</th>\n",
       "      <th>9</th>\n",
       "      <th>...</th>\n",
       "      <th>47</th>\n",
       "      <th>48</th>\n",
       "      <th>49</th>\n",
       "      <th>50</th>\n",
       "      <th>51</th>\n",
       "      <th>52</th>\n",
       "      <th>53</th>\n",
       "      <th>54</th>\n",
       "      <th>55</th>\n",
       "      <th>56</th>\n",
       "    </tr>\n",
       "  </thead>\n",
       "  <tbody>\n",
       "    <tr>\n",
       "      <th>0</th>\n",
       "      <td>0</td>\n",
       "      <td>10002</td>\n",
       "      <td>0.007477</td>\n",
       "      <td>0.000000</td>\n",
       "      <td>1.000000</td>\n",
       "      <td>0.000000</td>\n",
       "      <td>0.007470</td>\n",
       "      <td>0.000000</td>\n",
       "      <td>0.000000</td>\n",
       "      <td>0.000000</td>\n",
       "      <td>...</td>\n",
       "      <td>0.007042</td>\n",
       "      <td>#docid</td>\n",
       "      <td>=</td>\n",
       "      <td>GX008-86-4444840</td>\n",
       "      <td>inc</td>\n",
       "      <td>=</td>\n",
       "      <td>1.000000</td>\n",
       "      <td>prob</td>\n",
       "      <td>=</td>\n",
       "      <td>0.086622</td>\n",
       "    </tr>\n",
       "    <tr>\n",
       "      <th>1</th>\n",
       "      <td>0</td>\n",
       "      <td>10002</td>\n",
       "      <td>0.603738</td>\n",
       "      <td>0.000000</td>\n",
       "      <td>1.000000</td>\n",
       "      <td>0.000000</td>\n",
       "      <td>0.603175</td>\n",
       "      <td>0.000000</td>\n",
       "      <td>0.000000</td>\n",
       "      <td>0.000000</td>\n",
       "      <td>...</td>\n",
       "      <td>1.000000</td>\n",
       "      <td>#docid</td>\n",
       "      <td>=</td>\n",
       "      <td>GX037-06-11625428</td>\n",
       "      <td>inc</td>\n",
       "      <td>=</td>\n",
       "      <td>0.003159</td>\n",
       "      <td>prob</td>\n",
       "      <td>=</td>\n",
       "      <td>0.089745</td>\n",
       "    </tr>\n",
       "    <tr>\n",
       "      <th>2</th>\n",
       "      <td>0</td>\n",
       "      <td>10002</td>\n",
       "      <td>0.214953</td>\n",
       "      <td>0.000000</td>\n",
       "      <td>0.000000</td>\n",
       "      <td>0.000000</td>\n",
       "      <td>0.213819</td>\n",
       "      <td>0.000000</td>\n",
       "      <td>0.000000</td>\n",
       "      <td>0.000000</td>\n",
       "      <td>...</td>\n",
       "      <td>0.021127</td>\n",
       "      <td>#docid</td>\n",
       "      <td>=</td>\n",
       "      <td>GX044-30-4142998</td>\n",
       "      <td>inc</td>\n",
       "      <td>=</td>\n",
       "      <td>0.008419</td>\n",
       "      <td>prob</td>\n",
       "      <td>=</td>\n",
       "      <td>0.099974</td>\n",
       "    </tr>\n",
       "    <tr>\n",
       "      <th>3</th>\n",
       "      <td>0</td>\n",
       "      <td>10002</td>\n",
       "      <td>0.000000</td>\n",
       "      <td>0.000000</td>\n",
       "      <td>1.000000</td>\n",
       "      <td>0.000000</td>\n",
       "      <td>0.000000</td>\n",
       "      <td>0.000000</td>\n",
       "      <td>0.000000</td>\n",
       "      <td>0.000000</td>\n",
       "      <td>...</td>\n",
       "      <td>0.000000</td>\n",
       "      <td>#docid</td>\n",
       "      <td>=</td>\n",
       "      <td>GX228-42-3888699</td>\n",
       "      <td>inc</td>\n",
       "      <td>=</td>\n",
       "      <td>0.008419</td>\n",
       "      <td>prob</td>\n",
       "      <td>=</td>\n",
       "      <td>0.044481</td>\n",
       "    </tr>\n",
       "    <tr>\n",
       "      <th>4</th>\n",
       "      <td>0</td>\n",
       "      <td>10002</td>\n",
       "      <td>1.000000</td>\n",
       "      <td>1.000000</td>\n",
       "      <td>0.000000</td>\n",
       "      <td>0.000000</td>\n",
       "      <td>1.000000</td>\n",
       "      <td>0.000000</td>\n",
       "      <td>0.000000</td>\n",
       "      <td>0.000000</td>\n",
       "      <td>...</td>\n",
       "      <td>0.000000</td>\n",
       "      <td>#docid</td>\n",
       "      <td>=</td>\n",
       "      <td>GX229-14-12863205</td>\n",
       "      <td>inc</td>\n",
       "      <td>=</td>\n",
       "      <td>1.000000</td>\n",
       "      <td>prob</td>\n",
       "      <td>=</td>\n",
       "      <td>0.041016</td>\n",
       "    </tr>\n",
       "  </tbody>\n",
       "</table>\n",
       "<p>5 rows × 57 columns</p>\n",
       "</div>"
      ],
      "text/plain": [
       "   0      1         2         3         4         5         6         7   \\\n",
       "0   0  10002  0.007477  0.000000  1.000000  0.000000  0.007470  0.000000   \n",
       "1   0  10002  0.603738  0.000000  1.000000  0.000000  0.603175  0.000000   \n",
       "2   0  10002  0.214953  0.000000  0.000000  0.000000  0.213819  0.000000   \n",
       "3   0  10002  0.000000  0.000000  1.000000  0.000000  0.000000  0.000000   \n",
       "4   0  10002  1.000000  1.000000  0.000000  0.000000  1.000000  0.000000   \n",
       "\n",
       "         8         9   ...        47      48 49                 50   51 52  \\\n",
       "0  0.000000  0.000000  ...  0.007042  #docid  =   GX008-86-4444840  inc  =   \n",
       "1  0.000000  0.000000  ...  1.000000  #docid  =  GX037-06-11625428  inc  =   \n",
       "2  0.000000  0.000000  ...  0.021127  #docid  =   GX044-30-4142998  inc  =   \n",
       "3  0.000000  0.000000  ...  0.000000  #docid  =   GX228-42-3888699  inc  =   \n",
       "4  0.000000  0.000000  ...  0.000000  #docid  =  GX229-14-12863205  inc  =   \n",
       "\n",
       "         53    54 55        56  \n",
       "0  1.000000  prob  =  0.086622  \n",
       "1  0.003159  prob  =  0.089745  \n",
       "2  0.008419  prob  =  0.099974  \n",
       "3  0.008419  prob  =  0.044481  \n",
       "4  1.000000  prob  =  0.041016  \n",
       "\n",
       "[5 rows x 57 columns]"
      ]
     },
     "execution_count": 29,
     "metadata": {},
     "output_type": "execute_result"
    }
   ],
   "source": [
    "data.head()"
   ]
  },
  {
   "cell_type": "code",
   "execution_count": 30,
   "metadata": {},
   "outputs": [
    {
     "data": {
      "text/plain": [
       "array([0., 0., 0., ..., 0., 0., 0.])"
      ]
     },
     "execution_count": 30,
     "metadata": {},
     "output_type": "execute_result"
    }
   ],
   "source": [
    "y_train"
   ]
  },
  {
   "cell_type": "code",
   "execution_count": 31,
   "metadata": {},
   "outputs": [],
   "source": [
    "q_train = np.loadtxt('mq2008.train.group')\n",
    "q_valid = np.loadtxt('mq2008.vali.group')\n",
    "q_test = np.loadtxt('mq2008.test.group')"
   ]
  },
  {
   "cell_type": "code",
   "execution_count": 32,
   "metadata": {},
   "outputs": [
    {
     "data": {
      "text/plain": [
       "<2874x46 sparse matrix of type '<class 'numpy.float64'>'\n",
       "\twith 71241 stored elements in Compressed Sparse Row format>"
      ]
     },
     "execution_count": 32,
     "metadata": {},
     "output_type": "execute_result"
    }
   ],
   "source": [
    "x_test"
   ]
  },
  {
   "cell_type": "code",
   "execution_count": 33,
   "metadata": {},
   "outputs": [
    {
     "data": {
      "text/plain": [
       "array([  8.,  61.,   7.,   8.,   8.,   7.,   7.,  16.,  15.,   8.,  16.,\n",
       "        16.,  32.,  16.,  16.,   7.,  16.,  15.,   8.,  14.,  16.,  15.,\n",
       "         8.,   8.,  16.,   7.,  59.,  61.,  56.,  60.,   8.,   8.,  28.,\n",
       "       117.,  16.,  15.,   8.,   8.,  16.,  15.,   8.,   8.,   8.,   8.,\n",
       "         7.,  16.,   8.,   8.,  16.,   7.,   8.,  16.,   8.,   8.,  32.,\n",
       "        16.,  31.,  15.,   6.,  31.,  15.,  16.,  16.,  31.,  16.,   8.,\n",
       "        56.,  15.,   8.,  16.,   8.,  31.,  28.,  32.,   8.,   8.,   8.,\n",
       "       115.,  57.,  12.,   8.,   8.,   8.,  15.,   7.,   8.,  15.,   8.,\n",
       "         8.,   8.,  16.,   8.,  31., 119.,   8.,  15.,   7.,   8.,   8.,\n",
       "        16.,   8.,  15.,   8.,  16.,   8.,   8.,  15.,   8.,  16.,   8.,\n",
       "         8.,   8.,  16.,  16.,  15.,   7.,  15.,   8.,  15.,   8.,   8.,\n",
       "         8.,   8.,  29.,   7.,   8.,   8.,   8.,   8.,  61.,   8.,   7.,\n",
       "        32.,   8., 114.,  15.,  16.,   8.,  16.,  61.,   8.,  15.,  15.,\n",
       "         8.,   8.,   8.,  16.,  31.,  16.,  32.,  16.,   8.,  32.,  15.,\n",
       "        31.,   7.])"
      ]
     },
     "execution_count": 33,
     "metadata": {},
     "output_type": "execute_result"
    }
   ],
   "source": [
    "q_test"
   ]
  },
  {
   "cell_type": "code",
   "execution_count": 35,
   "metadata": {},
   "outputs": [
    {
     "data": {
      "text/plain": [
       "array([0., 0., 1., 1., 1., 0., 1., 1., 1., 1., 1., 0., 2., 1., 0., 0., 0.,\n",
       "       0., 0., 1., 0., 1., 1., 1., 0., 1., 0., 1., 1., 0., 0., 1., 1., 0.,\n",
       "       1., 1., 1., 2., 1., 2., 1., 1., 2., 1., 1., 2., 1., 1., 2., 1., 1.,\n",
       "       0., 2., 1., 0., 0., 0., 1., 0., 0., 2.])"
      ]
     },
     "execution_count": 35,
     "metadata": {},
     "output_type": "execute_result"
    }
   ],
   "source": [
    "y_test[8:69]"
   ]
  },
  {
   "cell_type": "code",
   "execution_count": 36,
   "metadata": {},
   "outputs": [
    {
     "name": "stdout",
     "output_type": "stream",
     "text": [
      "[1]\tvalid_0's ndcg@1: 0.556263\tvalid_0's ndcg@3: 0.635254\n",
      "Training until validation scores don't improve for 20 rounds.\n",
      "[2]\tvalid_0's ndcg@1: 0.571125\tvalid_0's ndcg@3: 0.66308\n",
      "[3]\tvalid_0's ndcg@1: 0.617834\tvalid_0's ndcg@3: 0.675826\n",
      "[4]\tvalid_0's ndcg@1: 0.622081\tvalid_0's ndcg@3: 0.682879\n",
      "[5]\tvalid_0's ndcg@1: 0.632696\tvalid_0's ndcg@3: 0.6769\n",
      "[6]\tvalid_0's ndcg@1: 0.624204\tvalid_0's ndcg@3: 0.677868\n",
      "[7]\tvalid_0's ndcg@1: 0.613588\tvalid_0's ndcg@3: 0.671651\n",
      "[8]\tvalid_0's ndcg@1: 0.613588\tvalid_0's ndcg@3: 0.670299\n",
      "[9]\tvalid_0's ndcg@1: 0.626327\tvalid_0's ndcg@3: 0.675637\n",
      "[10]\tvalid_0's ndcg@1: 0.62845\tvalid_0's ndcg@3: 0.680989\n",
      "[11]\tvalid_0's ndcg@1: 0.62845\tvalid_0's ndcg@3: 0.679431\n",
      "[12]\tvalid_0's ndcg@1: 0.626327\tvalid_0's ndcg@3: 0.684499\n",
      "[13]\tvalid_0's ndcg@1: 0.641189\tvalid_0's ndcg@3: 0.688833\n",
      "[14]\tvalid_0's ndcg@1: 0.619958\tvalid_0's ndcg@3: 0.688054\n",
      "[15]\tvalid_0's ndcg@1: 0.619958\tvalid_0's ndcg@3: 0.686626\n",
      "[16]\tvalid_0's ndcg@1: 0.626327\tvalid_0's ndcg@3: 0.691959\n",
      "[17]\tvalid_0's ndcg@1: 0.626327\tvalid_0's ndcg@3: 0.686887\n",
      "[18]\tvalid_0's ndcg@1: 0.626327\tvalid_0's ndcg@3: 0.688\n",
      "[19]\tvalid_0's ndcg@1: 0.626327\tvalid_0's ndcg@3: 0.688049\n",
      "[20]\tvalid_0's ndcg@1: 0.626327\tvalid_0's ndcg@3: 0.690434\n",
      "[21]\tvalid_0's ndcg@1: 0.626327\tvalid_0's ndcg@3: 0.694799\n",
      "[22]\tvalid_0's ndcg@1: 0.62845\tvalid_0's ndcg@3: 0.695588\n",
      "[23]\tvalid_0's ndcg@1: 0.624204\tvalid_0's ndcg@3: 0.694733\n",
      "[24]\tvalid_0's ndcg@1: 0.619958\tvalid_0's ndcg@3: 0.693001\n",
      "[25]\tvalid_0's ndcg@1: 0.617834\tvalid_0's ndcg@3: 0.690167\n",
      "[26]\tvalid_0's ndcg@1: 0.630573\tvalid_0's ndcg@3: 0.692966\n",
      "[27]\tvalid_0's ndcg@1: 0.630573\tvalid_0's ndcg@3: 0.695363\n",
      "[28]\tvalid_0's ndcg@1: 0.62845\tvalid_0's ndcg@3: 0.692396\n",
      "[29]\tvalid_0's ndcg@1: 0.62845\tvalid_0's ndcg@3: 0.692314\n",
      "[30]\tvalid_0's ndcg@1: 0.62845\tvalid_0's ndcg@3: 0.687503\n",
      "[31]\tvalid_0's ndcg@1: 0.62845\tvalid_0's ndcg@3: 0.683282\n",
      "[32]\tvalid_0's ndcg@1: 0.62845\tvalid_0's ndcg@3: 0.683282\n",
      "[33]\tvalid_0's ndcg@1: 0.62845\tvalid_0's ndcg@3: 0.686777\n",
      "Early stopping, best iteration is:\n",
      "[13]\tvalid_0's ndcg@1: 0.641189\tvalid_0's ndcg@3: 0.688833\n"
     ]
    },
    {
     "data": {
      "text/plain": [
       "LGBMRanker(boosting_type='gbdt', class_weight=None, colsample_bytree=1.0,\n",
       "      importance_type='split', learning_rate=0.1, max_depth=-1,\n",
       "      min_child_samples=20, min_child_weight=0.001, min_split_gain=0.0,\n",
       "      n_estimators=100, n_jobs=-1, num_leaves=31, objective=None,\n",
       "      random_state=None, reg_alpha=0.0, reg_lambda=0.0, silent=True,\n",
       "      subsample=1.0, subsample_for_bin=200000, subsample_freq=0)"
      ]
     },
     "execution_count": 36,
     "metadata": {},
     "output_type": "execute_result"
    }
   ],
   "source": [
    "# LGBMRanker doc: https://lightgbm.readthedocs.io/en/latest/pythonapi/lightgbm.LGBMRanker.html\n",
    "gbm = lgb.LGBMRanker()\n",
    "\n",
    "gbm.fit(\n",
    "    x_train, y_train, group=q_train, eval_set=[(x_valid, y_valid)],\n",
    "    eval_group=[q_valid], eval_at=[1, 3], early_stopping_rounds=20, verbose=True,\n",
    "    callbacks=[lgb.reset_parameter(learning_rate=lambda x: 0.95 ** x * 0.1)]\n",
    ")"
   ]
  },
  {
   "cell_type": "code",
   "execution_count": 37,
   "metadata": {},
   "outputs": [
    {
     "data": {
      "text/plain": [
       "array([ 0.21021768, -0.32371846,  0.18258013, ..., -0.19822539,\n",
       "        0.02179842, -0.26031275])"
      ]
     },
     "execution_count": 37,
     "metadata": {},
     "output_type": "execute_result"
    }
   ],
   "source": [
    "# Tiremos el predictor sobre los datos de test\n",
    "preds_test = gbm.predict(x_test)\n",
    "preds_test"
   ]
  },
  {
   "cell_type": "code",
   "execution_count": 38,
   "metadata": {},
   "outputs": [
    {
     "data": {
      "text/plain": [
       "SpearmanrResult(correlation=0.3888310513462384, pvalue=2.2613542430263908e-104)"
      ]
     },
     "execution_count": 38,
     "metadata": {},
     "output_type": "execute_result"
    }
   ],
   "source": [
    "# Usemos la métrica de Spearman para correlación de Rankings\n",
    "# https://docs.scipy.org/doc/scipy/reference/generated/scipy.stats.spearmanr.html\n",
    "spearmanr(y_test, preds_test)"
   ]
  },
  {
   "cell_type": "markdown",
   "metadata": {},
   "source": [
    "## Agrupemos todo el dataset y reentrenemos!"
   ]
  },
  {
   "cell_type": "code",
   "execution_count": 46,
   "metadata": {},
   "outputs": [
    {
     "name": "stdout",
     "output_type": "stream",
     "text": [
      "[1]\tvalid_0's ndcg@3: 0\tvalid_0's ndcg@5: 0\n",
      "Training until validation scores don't improve for 20 rounds.\n",
      "[2]\tvalid_0's ndcg@3: 0\tvalid_0's ndcg@5: 0\n",
      "[3]\tvalid_0's ndcg@3: 0\tvalid_0's ndcg@5: 0.0924245\n",
      "[4]\tvalid_0's ndcg@3: 0.0782131\tvalid_0's ndcg@5: 0.236421\n",
      "[5]\tvalid_0's ndcg@3: 0.176907\tvalid_0's ndcg@5: 0.317659\n",
      "[6]\tvalid_0's ndcg@3: 0.176907\tvalid_0's ndcg@5: 0.317659\n",
      "[7]\tvalid_0's ndcg@3: 0.176907\tvalid_0's ndcg@5: 0.405129\n",
      "[8]\tvalid_0's ndcg@3: 0.176907\tvalid_0's ndcg@5: 0.405129\n",
      "[9]\tvalid_0's ndcg@3: 0.176907\tvalid_0's ndcg@5: 0.405129\n",
      "[10]\tvalid_0's ndcg@3: 0.48976\tvalid_0's ndcg@5: 0.543766\n",
      "[11]\tvalid_0's ndcg@3: 0.687148\tvalid_0's ndcg@5: 0.676514\n",
      "[12]\tvalid_0's ndcg@3: 0.530721\tvalid_0's ndcg@5: 0.383566\n",
      "[13]\tvalid_0's ndcg@3: 0.530721\tvalid_0's ndcg@5: 0.514771\n",
      "[14]\tvalid_0's ndcg@3: 0.530721\tvalid_0's ndcg@5: 0.514771\n",
      "[15]\tvalid_0's ndcg@3: 0.452508\tvalid_0's ndcg@5: 0.604313\n",
      "[16]\tvalid_0's ndcg@3: 0.391066\tvalid_0's ndcg@5: 0.559907\n",
      "[17]\tvalid_0's ndcg@3: 0.391066\tvalid_0's ndcg@5: 0.559907\n",
      "[18]\tvalid_0's ndcg@3: 0.391066\tvalid_0's ndcg@5: 0.559907\n",
      "[19]\tvalid_0's ndcg@3: 0.333333\tvalid_0's ndcg@5: 0.430712\n",
      "[20]\tvalid_0's ndcg@3: 0.333333\tvalid_0's ndcg@5: 0.430712\n",
      "[21]\tvalid_0's ndcg@3: 0.333333\tvalid_0's ndcg@5: 0.430712\n",
      "[22]\tvalid_0's ndcg@3: 0.333333\tvalid_0's ndcg@5: 0.430712\n",
      "[23]\tvalid_0's ndcg@3: 0.333333\tvalid_0's ndcg@5: 0.430712\n",
      "[24]\tvalid_0's ndcg@3: 0.333333\tvalid_0's ndcg@5: 0.430712\n",
      "[25]\tvalid_0's ndcg@3: 0.333333\tvalid_0's ndcg@5: 0.430712\n",
      "[26]\tvalid_0's ndcg@3: 0.333333\tvalid_0's ndcg@5: 0.430712\n",
      "[27]\tvalid_0's ndcg@3: 0.333333\tvalid_0's ndcg@5: 0.430712\n",
      "[28]\tvalid_0's ndcg@3: 0.391066\tvalid_0's ndcg@5: 0.472437\n",
      "[29]\tvalid_0's ndcg@3: 0.391066\tvalid_0's ndcg@5: 0.375058\n",
      "[30]\tvalid_0's ndcg@3: 0.530721\tvalid_0's ndcg@5: 0.427301\n",
      "[31]\tvalid_0's ndcg@3: 0.530721\tvalid_0's ndcg@5: 0.563461\n",
      "Early stopping, best iteration is:\n",
      "[11]\tvalid_0's ndcg@3: 0.687148\tvalid_0's ndcg@5: 0.676514\n"
     ]
    },
    {
     "data": {
      "text/plain": [
       "LGBMRanker(boosting_type='gbdt', class_weight=None, colsample_bytree=1.0,\n",
       "      importance_type='split', learning_rate=0.1, max_depth=-1,\n",
       "      min_child_samples=20, min_child_weight=0.001, min_split_gain=0.0,\n",
       "      n_estimators=100, n_jobs=-1, num_leaves=31, objective=None,\n",
       "      random_state=None, reg_alpha=0.0, reg_lambda=0.0, silent=True,\n",
       "      subsample=1.0, subsample_for_bin=200000, subsample_freq=0)"
      ]
     },
     "execution_count": 46,
     "metadata": {},
     "output_type": "execute_result"
    }
   ],
   "source": [
    "q_train = [x_train.shape[0]]\n",
    "q_valid = [x_valid.shape[0]]\n",
    "q_test = [x_test.shape[0]]\n",
    "\n",
    "gbm = lgb.LGBMRanker()\n",
    "# Posible bug en la librería? \n",
    "gbm.fit(\n",
    "    x_train, y_train, group=q_train, eval_set=[(x_valid, y_valid)],\n",
    "    eval_group=[q_valid], eval_at=(3, 5), early_stopping_rounds=20, verbose=True,\n",
    "    callbacks=[lgb.reset_parameter(learning_rate=lambda x: 0.95 ** x * 0.1)]\n",
    ")"
   ]
  },
  {
   "cell_type": "code",
   "execution_count": 44,
   "metadata": {},
   "outputs": [
    {
     "data": {
      "text/plain": [
       "SpearmanrResult(correlation=0.38635242974671874, pvalue=5.851119987299715e-103)"
      ]
     },
     "execution_count": 44,
     "metadata": {},
     "output_type": "execute_result"
    }
   ],
   "source": [
    "preds_test = gbm.predict(x_test)\n",
    "preds_test\n",
    "spearmanr(y_test, preds_test)"
   ]
  },
  {
   "cell_type": "code",
   "execution_count": null,
   "metadata": {},
   "outputs": [],
   "source": [
    "gbm.be"
   ]
  }
 ],
 "metadata": {
  "kernelspec": {
   "display_name": "Python 3",
   "language": "python",
   "name": "python3"
  },
  "language_info": {
   "codemirror_mode": {
    "name": "ipython",
    "version": 3
   },
   "file_extension": ".py",
   "mimetype": "text/x-python",
   "name": "python",
   "nbconvert_exporter": "python",
   "pygments_lexer": "ipython3",
   "version": "3.6.8"
  }
 },
 "nbformat": 4,
 "nbformat_minor": 4
}
