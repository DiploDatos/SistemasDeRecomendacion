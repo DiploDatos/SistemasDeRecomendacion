{
 "cells": [
  {
   "cell_type": "markdown",
   "metadata": {
    "slideshow": {
     "slide_type": "slide"
    }
   },
   "source": [
    "# Sistemas de Recomendación - Instalación y Configuración"
   ]
  },
  {
   "cell_type": "markdown",
   "metadata": {
    "slideshow": {
     "slide_type": "slide"
    }
   },
   "source": [
    "## Configuración del entorno"
   ]
  },
  {
   "cell_type": "markdown",
   "metadata": {
    "slideshow": {
     "slide_type": "subslide"
    }
   },
   "source": [
    "### Instalación de conda\n",
    "\n",
    "Para este curso utilizaremos `conda` como gestor de paquetes y entornos de trabajo en Python. Pueden instalar la versión que quieran de Anaconda o Miniconda. Las instrucciones, de acuerdo a su sistema operativo, pueden encontrarse en la [documentación oficial](https://docs.conda.io/projects/conda/en/latest/user-guide/install/index.html#regular-installation)."
   ]
  },
  {
   "cell_type": "markdown",
   "metadata": {
    "slideshow": {
     "slide_type": "subslide"
    }
   },
   "source": [
    "### Crear un entorno virtual con las librerías de Anaconda\n",
    "\n",
    "    $ conda create --name rec-sys python=3.7 anaconda\n",
    "\n",
    "Activar el entorno\n",
    "\n",
    "    $ conda activate rec-sys    "
   ]
  },
  {
   "cell_type": "markdown",
   "metadata": {
    "slideshow": {
     "slide_type": "subslide"
    }
   },
   "source": [
    "### Instalación de Surpr!se\n",
    "\n",
    "La librería que vamos a utilizar para entrenar nuestos sistemas de recomendación es [Surpr!se](http://surpriselib.com/) que tiene una implementación bastante completa de varios algoritmos de recomendación y una API muy similar a la de `scikit-learn`. Para instalarla, una vez activado el entorno, basta con el siguiente comando:\n",
    "\n",
    "    (rec-sys) $ conda install -c conda-forge scikit-surprise\n",
    "\n",
    "Para probar que se instaló correctamente, basta comprobarlo ejecutando la siguiente celda:"
   ]
  },
  {
   "cell_type": "code",
   "execution_count": null,
   "metadata": {
    "slideshow": {
     "slide_type": "-"
    }
   },
   "outputs": [],
   "source": [
    "import surprise\n",
    "\n",
    "surprise.__version__"
   ]
  },
  {
   "cell_type": "markdown",
   "metadata": {
    "slideshow": {
     "slide_type": "slide"
    }
   },
   "source": [
    "## Conjunto de datos"
   ]
  },
  {
   "cell_type": "markdown",
   "metadata": {
    "slideshow": {
     "slide_type": "subslide"
    }
   },
   "source": [
    "### MovieLens\n",
    "\n",
    "El conjunto de datos de [MovieLens](https://grouplens.org/datasets/movielens/) es uno de los más comunes para iniciarse en Sistemas de Recomendación, donde, en este caso, se buscan recomendar películas a los distintos usuarios en base a su review sobre películas vistas. Para descargarlo basta correr la celda siguiente (sólo disponible en Linux, en caso de utilizar Windows es mejor hacer la [descarga directa](https://grouplens.org/datasets/movielens/ml-latest-small.zip) y descomprimir el archivo):"
   ]
  },
  {
   "cell_type": "code",
   "execution_count": null,
   "metadata": {
    "slideshow": {
     "slide_type": "-"
    }
   },
   "outputs": [],
   "source": [
    "%%bash\n",
    "\n",
    "mkdir -p data/\n",
    "curl -LO http://files.grouplens.org/datasets/movielens/ml-latest-small.zip\n",
    "unzip ml-latest-small.zip -d data/\n",
    "rm -f ml-latest-small.zip"
   ]
  },
  {
   "cell_type": "markdown",
   "metadata": {
    "slideshow": {
     "slide_type": "subslide"
    }
   },
   "source": [
    "### LastFM\n",
    "\n",
    "Para el práctico 1 de la materia vamos a estar utilizando el conjunto de datos de [LastFM](https://grouplens.org/datasets/hetrec-2011/), que tiene información sobre usuarios y artistas que estos escuchan. Nuevamente, si no están utilizando una terminal de Linux, recomiendo hacer el proceso de manera manual mediante la [descarga directa](http://files.grouplens.org/datasets/hetrec2011/hetrec2011-lastfm-2k.zip)."
   ]
  },
  {
   "cell_type": "code",
   "execution_count": null,
   "metadata": {
    "slideshow": {
     "slide_type": "-"
    }
   },
   "outputs": [],
   "source": [
    "%%bash\n",
    "\n",
    "mkdir -p data/lastfm/\n",
    "curl -LO http://files.grouplens.org/datasets/hetrec2011/hetrec2011-lastfm-2k.zip\n",
    "unzip hetrec2011-lastfm-2k.zip -d data/lastfm/\n",
    "rm -f hetrec2011-lastfm-2k.zip"
   ]
  },
  {
   "cell_type": "markdown",
   "metadata": {
    "slideshow": {
     "slide_type": "slide"
    }
   },
   "source": [
    "## Algunos recursos extras\n",
    "\n",
    "- [Building and Testing Recommender Systems With Surprise, Step-By-Step](https://towardsdatascience.com/building-and-testing-recommender-systems-with-surprise-step-by-step-d4ba702ef80b)\n",
    "- [Building a Recommender System from Scratch](https://github.com/topspinj/pydata-workshop/blob/master/tutorial.ipynb)"
   ]
  }
 ],
 "metadata": {
  "anaconda-cloud": {},
  "celltoolbar": "Slideshow",
  "kernelspec": {
   "display_name": "Python 3",
   "language": "python",
   "name": "python3"
  },
  "language_info": {
   "codemirror_mode": {
    "name": "ipython",
    "version": 3
   },
   "file_extension": ".py",
   "mimetype": "text/x-python",
   "name": "python",
   "nbconvert_exporter": "python",
   "pygments_lexer": "ipython3",
   "version": "3.7.4"
  },
  "rise": {
   "scroll": true
  }
 },
 "nbformat": 4,
 "nbformat_minor": 2
}
